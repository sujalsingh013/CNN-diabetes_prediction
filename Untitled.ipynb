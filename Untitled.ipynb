{
 "cells": [
  {
   "cell_type": "code",
   "execution_count": 68,
   "id": "cd168aa8",
   "metadata": {},
   "outputs": [],
   "source": [
    "import pandas as pd\n",
    "import numpy as np\n",
    "import matplotlib.pyplot as plt\n",
    "import seaborn as sns\n",
    "%matplotlib inline\n",
    "sns.set_style('darkgrid')"
   ]
  },
  {
   "cell_type": "code",
   "execution_count": 69,
   "id": "d576a1eb",
   "metadata": {},
   "outputs": [],
   "source": [
    "def sigmoid(theta, X):\n",
    "    return 1/(1 + np.exp((-np.matmul(X,theta.transpose()))))\n",
    "def calculate_cost(theta, X, y, lbda):\n",
    "    m = X.shape[0]\n",
    "    h = sigmoid(theta, X)\n",
    "    cost = (1/m)*(-y*np.log(h)-(1-y)*np.log(1-h)).sum()+(lbda / (2*m)*np.square(theta).sum())\n",
    "    cost -=(lbda/(2*m))*theta[0]**2\n",
    "    return cost"
   ]
  },
  {
   "cell_type": "code",
   "execution_count": 70,
   "id": "f57828db",
   "metadata": {},
   "outputs": [],
   "source": [
    "def calculate_grad(theta, X, y, lbda):\n",
    "    m = X.shape[0]\n",
    "    h = sigmoid(theta, X)\n",
    "    grad = np.matmul(X.transpose(),h - y)\n",
    "    grad += (lbda/m) * theta[0]\n",
    "    return grad"
   ]
  },
  {
   "cell_type": "code",
   "execution_count": 71,
   "id": "425b3862",
   "metadata": {},
   "outputs": [],
   "source": [
    "def logistic_regression(X, y, alpha, iterations, test_X, test_y):\n",
    "    theta = np.random.rand(X.shape[1])\n",
    "    m = X.shape[0]\n",
    "    costs_train = []\n",
    "    costs_test = []\n",
    "    for i in range(iterations):\n",
    "        costs_train.append(calculate_cost(theta, X, y, 1))\n",
    "        theta -= alpha * (1/m)*calculate_grad(theta, X, y, 1)\n",
    "        costs_test.append(calculate_cost(theta, test_X, test_y, 1))\n",
    "    x_graph = np.arange(0,iterations,1);\n",
    "    plt.plot(x_graph,costs_train, label='train')\n",
    "    plt.plot(x_graph,costs_test,label='test')\n",
    "    plt.legend()\n",
    "    return theta\n",
    "        "
   ]
  },
  {
   "cell_type": "code",
   "execution_count": 72,
   "id": "63bfabcb",
   "metadata": {},
   "outputs": [],
   "source": [
    "def predict(theta, X, threshold):\n",
    "    pred = sigmoid(theta, X)\n",
    "    pred_result = (pred>=threshold).astype(int)\n",
    "    return pred_result"
   ]
  },
  {
   "cell_type": "code",
   "execution_count": 73,
   "id": "2da31cd1",
   "metadata": {},
   "outputs": [],
   "source": [
    "def normalize(X, mean, std):\n",
    "    return(X-mean)/std"
   ]
  },
  {
   "cell_type": "code",
   "execution_count": 74,
   "id": "73cf0924",
   "metadata": {},
   "outputs": [
    {
     "name": "stdout",
     "output_type": "stream",
     "text": [
      "268\n",
      "500\n"
     ]
    }
   ],
   "source": [
    "data = pd.read_csv('diabetes.csv')\n",
    "data.isnull().sum()\n",
    "print(len(data[data['Outcome']==1]))\n",
    "print(len(data[data['Outcome']==0]))\n",
    "train = data.sample(frac=0.8, random_state=150)\n",
    "test = data.drop(train.index)\n",
    "\n",
    "train_x = train.loc[:,train.columns != \"Outcome\"]\n",
    "test_x = test.loc[:,test.columns != \"Outcome\"]\n",
    "train_y = train['Outcome'].values\n",
    "test_y = test['Outcome'].values\n",
    "\n",
    "train_mean = train_x.mean(axis=0)\n",
    "train_std= train_x.std(axis=0)\n",
    "test_mean = test_x.mean(axis=0)\n",
    "test_std= test_x.std(axis=0)\n",
    "\n",
    "train_x = normalize(train_x, train_mean, train_std)\n",
    "test_x = normalize(test_x, test_mean, test_std)\n",
    "\n",
    "train_x.insert(0, 'One', 1)\n",
    "test_x.insert(0, 'One', 1)"
   ]
  },
  {
   "cell_type": "code",
   "execution_count": 75,
   "id": "6dbc58e7",
   "metadata": {},
   "outputs": [
    {
     "data": {
      "image/png": "[encoded data removed]",
      "text/plain": [
       "<Figure size 432x288 with 1 Axes>"
      ]
     },
     "metadata": {},
     "output_type": "display_data"
    }
   ],
   "source": [
    "t = logistic_regression(train_x.values, train_y, 0.05 , 500, test_x.values, test_y)"
   ]
  },
  {
   "cell_type": "code",
   "execution_count": 79,
   "id": "9c479657",
   "metadata": {},
   "outputs": [
    {
     "name": "stdout",
     "output_type": "stream",
     "text": [
      "79.87012987012987\n"
     ]
    }
   ],
   "source": [
    "pred_y = predict (t, test_x.values, 0.6)\n",
    "result = pred_y == test_y\n",
    "pred_train_y = predict(t, train_x.values, 0.6)\n",
    "result_train = pred_train_y == train_y\n",
    "ans= (sum(result)/ len(result))*100\n",
    "print(ans)"
   ]
  },
  {
   "cell_type": "code",
   "execution_count": 84,
   "id": "09640938",
   "metadata": {},
   "outputs": [],
   "source": [
    "outfile = open(\"ans.txt\", 'w')\n",
    "\n",
    "outfile.write(str(ans))\n",
    "\n",
    "outfile.close()"
   ]
  },
  {
   "cell_type": "code",
   "execution_count": null,
   "id": "27e5d8e2",
   "metadata": {},
   "outputs": [],
   "source": []
  },
  {
   "cell_type": "code",
   "execution_count": null,
   "id": "3c136a52",
   "metadata": {},
   "outputs": [],
   "source": []
  }
 ],
 "metadata": {
  "kernelspec": {
   "display_name": "Python 3",
   "language": "python",
   "name": "python3"
  },
  "language_info": {
   "codemirror_mode": {
    "name": "ipython",
    "version": 3
   },
   "file_extension": ".py",
   "mimetype": "text/x-python",
   "name": "python",
   "nbconvert_exporter": "python",
   "pygments_lexer": "ipython3",
   "version": "3.8.8"
  }
 },
 "nbformat": 4,
 "nbformat_minor": 5
}
