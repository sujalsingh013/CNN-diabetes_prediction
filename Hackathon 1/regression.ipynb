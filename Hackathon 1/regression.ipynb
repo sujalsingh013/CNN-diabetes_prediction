{
 "cells": [
  {
   "cell_type": "code",
   "execution_count": 1,
   "id": "283c6137",
   "metadata": {},
   "outputs": [],
   "source": [
    "import pandas as pd\n",
    "import numpy as np\n",
    "import matplotlib.pyplot as plt\n",
    "import seaborn as sns\n",
    "%matplotlib inline\n",
    "sns.set_style('darkgrid')"
   ]
  },
  {
   "cell_type": "code",
   "execution_count": 2,
   "id": "3cc9889e",
   "metadata": {},
   "outputs": [],
   "source": [
    "def one_hot(y,c):\n",
    "    y_hot = (np.arange(np.max(y) + 1) == y[:, None]).astype(float)\n",
    "    return y_hot"
   ]
  },
  {
   "cell_type": "code",
   "execution_count": 3,
   "id": "fb79ead7",
   "metadata": {},
   "outputs": [],
   "source": [
    "def softmax(z):\n",
    "    exp = np.exp(z - np.max(z))\n",
    "    for i in range(len(z)):\n",
    "        exp[i] /= np.sum(exp[i])\n",
    "    return exp"
   ]
  },
  {
   "cell_type": "code",
   "execution_count": 4,
   "id": "9a46a7c6",
   "metadata": {},
   "outputs": [],
   "source": [
    "def fit(X, y, alpha, c, epochs):\n",
    "    m, n = X.shape\n",
    "    w = np.random.random((n, c))\n",
    "    b = np.random.random(c)\n",
    "    losses = []\n",
    "    for epoch in range(epochs):\n",
    "        z = X@w + b\n",
    "        y_hat = softmax(z)\n",
    "        y_hot = one_hot(y, c)\n",
    "        \n",
    "        w_grad = (1/m)*np.dot(X.T, (y_hat - y_hot)) \n",
    "        b_grad = (1/m)*np.sum(y_hat - y_hot)\n",
    "        \n",
    "        w = w - alpha*w_grad\n",
    "        b = b - alpha*b_grad\n",
    "        \n",
    "        loss = -np.mean(np.log(y_hat[np.arange(len(y)), y]))\n",
    "        losses.append(loss)\n",
    "        \n",
    "        if epoch%100==0:\n",
    "            print('Epoch {epoch}==> Loss = {loss}'\n",
    "                  .format(epoch=epoch, loss=loss))\n",
    "    return w, b, losses"
   ]
  },
  {
   "cell_type": "code",
   "execution_count": 5,
   "id": "4bacbb9c",
   "metadata": {},
   "outputs": [],
   "source": [
    "def predict(X, w, b):\n",
    "    z = X@w + b\n",
    "    y_hat = softmax(z)\n",
    "    return y_hat"
   ]
  },
  {
   "cell_type": "code",
   "execution_count": null,
   "id": "152b077b",
   "metadata": {},
   "outputs": [],
   "source": [
    "df = pd.read.csv()"
   ]
  }
 ],
 "metadata": {
  "kernelspec": {
   "display_name": "Python 3",
   "language": "python",
   "name": "python3"
  },
  "language_info": {
   "codemirror_mode": {
    "name": "ipython",
    "version": 3
   },
   "file_extension": ".py",
   "mimetype": "text/x-python",
   "name": "python",
   "nbconvert_exporter": "python",
   "pygments_lexer": "ipython3",
   "version": "3.8.8"
  }
 },
 "nbformat": 4,
 "nbformat_minor": 5
}
