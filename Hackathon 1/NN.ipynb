{
 "cells": [
  {
   "cell_type": "code",
   "execution_count": 4,
   "id": "962e3cb1",
   "metadata": {},
   "outputs": [
    {
     "name": "stdout",
     "output_type": "stream",
     "text": [
      "Epoch 1/200\n",
      "180/180 [==============================] - 11s 59ms/step - loss: 2.1693 - accuracy: 0.2550 - val_loss: 1.8231 - val_accuracy: 0.3437\n",
      "Epoch 2/200\n",
      "180/180 [==============================] - 10s 57ms/step - loss: 1.8707 - accuracy: 0.3228 - val_loss: 1.7929 - val_accuracy: 0.3513\n",
      "Epoch 3/200\n",
      "180/180 [==============================] - 10s 56ms/step - loss: 1.8254 - accuracy: 0.3379 - val_loss: 1.7846 - val_accuracy: 0.3530\n",
      "Epoch 4/200\n",
      "180/180 [==============================] - 10s 56ms/step - loss: 1.8101 - accuracy: 0.3428 - val_loss: 1.7776 - val_accuracy: 0.3562\n",
      "Epoch 5/200\n",
      "180/180 [==============================] - 10s 57ms/step - loss: 1.7989 - accuracy: 0.3457 - val_loss: 1.7746 - val_accuracy: 0.3553\n",
      "Epoch 6/200\n",
      "180/180 [==============================] - 10s 56ms/step - loss: 1.7933 - accuracy: 0.3467 - val_loss: 1.7717 - val_accuracy: 0.3561\n",
      "Epoch 7/200\n",
      "180/180 [==============================] - 10s 56ms/step - loss: 1.7894 - accuracy: 0.3480 - val_loss: 1.7703 - val_accuracy: 0.3580\n",
      "Epoch 8/200\n",
      "180/180 [==============================] - 10s 56ms/step - loss: 1.7850 - accuracy: 0.3495 - val_loss: 1.7672 - val_accuracy: 0.3582\n",
      "Epoch 9/200\n",
      "180/180 [==============================] - 10s 56ms/step - loss: 1.7822 - accuracy: 0.3511 - val_loss: 1.7652 - val_accuracy: 0.3600\n",
      "Epoch 10/200\n",
      "180/180 [==============================] - 10s 56ms/step - loss: 1.7792 - accuracy: 0.3513 - val_loss: 1.7634 - val_accuracy: 0.3602\n",
      "Epoch 11/200\n",
      "180/180 [==============================] - 10s 55ms/step - loss: 1.7750 - accuracy: 0.3537 - val_loss: 1.7626 - val_accuracy: 0.3622\n",
      "Epoch 12/200\n",
      "180/180 [==============================] - 10s 57ms/step - loss: 1.7738 - accuracy: 0.3549 - val_loss: 1.7622 - val_accuracy: 0.3600\n",
      "Epoch 13/200\n",
      "180/180 [==============================] - 10s 56ms/step - loss: 1.7727 - accuracy: 0.3544 - val_loss: 1.7618 - val_accuracy: 0.3593\n",
      "Epoch 14/200\n",
      "180/180 [==============================] - 10s 56ms/step - loss: 1.7691 - accuracy: 0.3563 - val_loss: 1.7607 - val_accuracy: 0.3609\n",
      "Epoch 15/200\n",
      "180/180 [==============================] - 10s 56ms/step - loss: 1.7684 - accuracy: 0.3563 - val_loss: 1.7597 - val_accuracy: 0.3625\n",
      "Epoch 16/200\n",
      "180/180 [==============================] - 10s 56ms/step - loss: 1.7667 - accuracy: 0.3578 - val_loss: 1.7592 - val_accuracy: 0.3632\n",
      "Epoch 17/200\n",
      "180/180 [==============================] - 10s 56ms/step - loss: 1.7652 - accuracy: 0.3577 - val_loss: 1.7597 - val_accuracy: 0.3598\n"
     ]
    }
   ],
   "source": [
    "from __future__ import print_function\n",
    "import pandas as pd\n",
    "import numpy as np\n",
    "import tensorflow as tf\n",
    "from tensorflow.keras.models import Sequential\n",
    "from tensorflow.keras.layers import Dense\n",
    "from sklearn import preprocessing\n",
    "from sklearn.preprocessing import LabelEncoder\n",
    "training_data = pd.read_csv('train.csv')\n",
    "test_data = pd.read_csv('test.csv')\n",
    "TD = training_data.values\n",
    "Xtr = TD[:,1:76]\n",
    "ytr1 = TD[:,76]\n",
    "label_encoder = preprocessing.LabelEncoder()\n",
    "ytr = label_encoder.fit_transform(ytr1)\n",
    "ytr = tf.one_hot(ytr,depth=9)\n",
    "Xtr = tf.convert_to_tensor(Xtr, dtype=tf.int64) \n",
    "model = tf.keras.Sequential([tf.keras.layers.Dense(units = 500 ,activation = 'relu',kernel_regularizer = tf.keras.regularizers.l2(1e-6), input_shape = (Xtr.shape[1],), name = 'hidden_layer1'),\n",
    "                             tf.keras.layers.BatchNormalization(),\n",
    "                             tf.keras.layers.Dropout(0.5),\n",
    "                             tf.keras.layers.BatchNormalization(),\n",
    "                             tf.keras.layers.Dense(units = 250 ,activation = 'relu',kernel_regularizer = tf.keras.regularizers.l2(1e-6), name = 'hidden_layer2'),\n",
    "                             tf.keras.layers.BatchNormalization(),\n",
    "                             tf.keras.layers.Dropout(0.5),\n",
    "                             tf.keras.layers.BatchNormalization(),\n",
    "                             tf.keras.layers.Dense(units = 125 ,activation = 'relu',kernel_regularizer = tf.keras.regularizers.l2(1e-6), name = 'hidden_layer3'),\n",
    "                             tf.keras.layers.BatchNormalization(),\n",
    "                             tf.keras.layers.Dropout(0.5),\n",
    "                             tf.keras.layers.BatchNormalization(),\n",
    "                             tf.keras.layers.Dense(units = 9, activation = 'softmax', name = 'output_layer')])\n",
    "model.compile(optimizer = 'adam',\n",
    "             loss = 'categorical_crossentropy',\n",
    "             metrics = ['accuracy'])\n",
    "history = model.fit(Xtr, ytr, epochs=200, batch_size=1000, validation_split=0.1,callbacks=tf.keras.callbacks.EarlyStopping(patience=1))\n"
   ]
  },
  {
   "cell_type": "code",
   "execution_count": null,
   "id": "9e1c5e75",
   "metadata": {},
   "outputs": [],
   "source": []
  }
 ],
 "metadata": {
  "kernelspec": {
   "display_name": "Python 3",
   "language": "python",
   "name": "python3"
  },
  "language_info": {
   "codemirror_mode": {
    "name": "ipython",
    "version": 3
   },
   "file_extension": ".py",
   "mimetype": "text/x-python",
   "name": "python",
   "nbconvert_exporter": "python",
   "pygments_lexer": "ipython3",
   "version": "3.8.8"
  }
 },
 "nbformat": 4,
 "nbformat_minor": 5
}
